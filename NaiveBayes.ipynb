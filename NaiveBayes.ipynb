{
 "cells": [
  {
   "cell_type": "markdown",
   "id": "074dbc28",
   "metadata": {},
   "source": [
    "<h1> Naive Bayes on Arxiv Classification </h1>\n"
   ]
  },
  {
   "cell_type": "markdown",
   "id": "013ea206",
   "metadata": {},
   "source": [
    "<h2>1. Imports </h2>"
   ]
  },
  {
   "cell_type": "code",
   "execution_count": 8,
   "id": "bc8fe5aa",
   "metadata": {},
   "outputs": [],
   "source": [
    "# from arxivClassification import ArxivClassificationDataset as AC\n",
    "import json\n",
    "import numpy as np\n",
    "import pandas as pd\n",
    "from collections import Counter, defaultdict\n",
    "from datasets import load_dataset\n",
    "\n",
    "from sklearn.naive_bayes import GaussianNB\n",
    "from sklearn.feature_extraction.text import HashingVectorizer"
   ]
  },
  {
   "cell_type": "markdown",
   "id": "86715501",
   "metadata": {},
   "source": [
    "<h2>2. Constants/FilePaths</h2>"
   ]
  },
  {
   "cell_type": "code",
   "execution_count": 9,
   "id": "fc9e9013",
   "metadata": {},
   "outputs": [],
   "source": [
    "NAME_DATASET = \"ccdv/arxiv-classification\"\n",
    "\n",
    "# 0 is for original Math classes, 1 is for original CS classes\n",
    "classConversion = [0, 1, 1, 1, 0, 1, 1, 1, 1, 1, 0]"
   ]
  },
  {
   "cell_type": "markdown",
   "id": "8133826a",
   "metadata": {},
   "source": [
    "<h2>3. Loading Data</h2>\n",
    "<p>Hugging set dataloader and initializing HashingVectorizer</p>"
   ]
  },
  {
   "cell_type": "code",
   "execution_count": 10,
   "id": "773bda71",
   "metadata": {},
   "outputs": [
    {
     "name": "stderr",
     "output_type": "stream",
     "text": [
      "No config specified, defaulting to: arxiv-classification/default\n",
      "Found cached dataset arxiv-classification (/Users/adityak2003/.cache/huggingface/datasets/ccdv___arxiv-classification/default/1.0.0/5ba6a83b0eb91c2ea1de914fabd462fbd17722f1a3f1a2bba29e7942a207c789)\n",
      "No config specified, defaulting to: arxiv-classification/default\n",
      "Found cached dataset arxiv-classification (/Users/adityak2003/.cache/huggingface/datasets/ccdv___arxiv-classification/default/1.0.0/5ba6a83b0eb91c2ea1de914fabd462fbd17722f1a3f1a2bba29e7942a207c789)\n",
      "No config specified, defaulting to: arxiv-classification/default\n",
      "Found cached dataset arxiv-classification (/Users/adityak2003/.cache/huggingface/datasets/ccdv___arxiv-classification/default/1.0.0/5ba6a83b0eb91c2ea1de914fabd462fbd17722f1a3f1a2bba29e7942a207c789)\n"
     ]
    }
   ],
   "source": [
    "train_data = load_dataset(NAME_DATASET, split = \"train\")\n",
    "validation_data = load_dataset(NAME_DATASET, split = \"validation\")\n",
    "test_data = load_dataset(NAME_DATASET, split = \"test\")"
   ]
  },
  {
   "cell_type": "markdown",
   "id": "79959efc",
   "metadata": {},
   "source": [
    "<h2>4. Data Processing </h2>"
   ]
  },
  {
   "cell_type": "markdown",
   "id": "dac3b7ab",
   "metadata": {},
   "source": [
    "<h3>a. Converting 11 original classes to 2 classes, CS (1) or Math (0) </h3>"
   ]
  },
  {
   "cell_type": "code",
   "execution_count": 11,
   "id": "7ac4ea76",
   "metadata": {},
   "outputs": [],
   "source": [
    "train_y = [classConversion[x] for x in train_data['label']]\n",
    "test_y = [classConversion[x] for x in test_data['label']]\n",
    "validation_y = [classConversion[x] for x in validation_data['label']]"
   ]
  },
  {
   "cell_type": "markdown",
   "id": "d59697f4",
   "metadata": {},
   "source": [
    "<h3>b. Fit and transform vectorizer to train_data </h3>"
   ]
  },
  {
   "cell_type": "code",
   "execution_count": 14,
   "id": "977eb8ae",
   "metadata": {},
   "outputs": [],
   "source": [
    "vectorizer = HashingVectorizer(n_features=500)\n",
    "\n",
    "train_X = vectorizer.fit_transform(train_data['text'])\n",
    "test_X = vectorizer.transform(test_data['text'])\n",
    "validation_X = vectorizer.transform(validation_data['text'])"
   ]
  },
  {
   "cell_type": "markdown",
   "id": "d871fa3c",
   "metadata": {},
   "source": [
    "<h2>5. Training Gaussian Naive Bayes model </h2"
   ]
  },
  {
   "cell_type": "code",
   "execution_count": 15,
   "id": "fb7c9d79",
   "metadata": {},
   "outputs": [
    {
     "data": {
      "text/html": [
       "<style>#sk-container-id-1 {color: black;}#sk-container-id-1 pre{padding: 0;}#sk-container-id-1 div.sk-toggleable {background-color: white;}#sk-container-id-1 label.sk-toggleable__label {cursor: pointer;display: block;width: 100%;margin-bottom: 0;padding: 0.3em;box-sizing: border-box;text-align: center;}#sk-container-id-1 label.sk-toggleable__label-arrow:before {content: \"▸\";float: left;margin-right: 0.25em;color: #696969;}#sk-container-id-1 label.sk-toggleable__label-arrow:hover:before {color: black;}#sk-container-id-1 div.sk-estimator:hover label.sk-toggleable__label-arrow:before {color: black;}#sk-container-id-1 div.sk-toggleable__content {max-height: 0;max-width: 0;overflow: hidden;text-align: left;background-color: #f0f8ff;}#sk-container-id-1 div.sk-toggleable__content pre {margin: 0.2em;color: black;border-radius: 0.25em;background-color: #f0f8ff;}#sk-container-id-1 input.sk-toggleable__control:checked~div.sk-toggleable__content {max-height: 200px;max-width: 100%;overflow: auto;}#sk-container-id-1 input.sk-toggleable__control:checked~label.sk-toggleable__label-arrow:before {content: \"▾\";}#sk-container-id-1 div.sk-estimator input.sk-toggleable__control:checked~label.sk-toggleable__label {background-color: #d4ebff;}#sk-container-id-1 div.sk-label input.sk-toggleable__control:checked~label.sk-toggleable__label {background-color: #d4ebff;}#sk-container-id-1 input.sk-hidden--visually {border: 0;clip: rect(1px 1px 1px 1px);clip: rect(1px, 1px, 1px, 1px);height: 1px;margin: -1px;overflow: hidden;padding: 0;position: absolute;width: 1px;}#sk-container-id-1 div.sk-estimator {font-family: monospace;background-color: #f0f8ff;border: 1px dotted black;border-radius: 0.25em;box-sizing: border-box;margin-bottom: 0.5em;}#sk-container-id-1 div.sk-estimator:hover {background-color: #d4ebff;}#sk-container-id-1 div.sk-parallel-item::after {content: \"\";width: 100%;border-bottom: 1px solid gray;flex-grow: 1;}#sk-container-id-1 div.sk-label:hover label.sk-toggleable__label {background-color: #d4ebff;}#sk-container-id-1 div.sk-serial::before {content: \"\";position: absolute;border-left: 1px solid gray;box-sizing: border-box;top: 0;bottom: 0;left: 50%;z-index: 0;}#sk-container-id-1 div.sk-serial {display: flex;flex-direction: column;align-items: center;background-color: white;padding-right: 0.2em;padding-left: 0.2em;position: relative;}#sk-container-id-1 div.sk-item {position: relative;z-index: 1;}#sk-container-id-1 div.sk-parallel {display: flex;align-items: stretch;justify-content: center;background-color: white;position: relative;}#sk-container-id-1 div.sk-item::before, #sk-container-id-1 div.sk-parallel-item::before {content: \"\";position: absolute;border-left: 1px solid gray;box-sizing: border-box;top: 0;bottom: 0;left: 50%;z-index: -1;}#sk-container-id-1 div.sk-parallel-item {display: flex;flex-direction: column;z-index: 1;position: relative;background-color: white;}#sk-container-id-1 div.sk-parallel-item:first-child::after {align-self: flex-end;width: 50%;}#sk-container-id-1 div.sk-parallel-item:last-child::after {align-self: flex-start;width: 50%;}#sk-container-id-1 div.sk-parallel-item:only-child::after {width: 0;}#sk-container-id-1 div.sk-dashed-wrapped {border: 1px dashed gray;margin: 0 0.4em 0.5em 0.4em;box-sizing: border-box;padding-bottom: 0.4em;background-color: white;}#sk-container-id-1 div.sk-label label {font-family: monospace;font-weight: bold;display: inline-block;line-height: 1.2em;}#sk-container-id-1 div.sk-label-container {text-align: center;}#sk-container-id-1 div.sk-container {/* jupyter's `normalize.less` sets `[hidden] { display: none; }` but bootstrap.min.css set `[hidden] { display: none !important; }` so we also need the `!important` here to be able to override the default hidden behavior on the sphinx rendered scikit-learn.org. See: https://github.com/scikit-learn/scikit-learn/issues/21755 */display: inline-block !important;position: relative;}#sk-container-id-1 div.sk-text-repr-fallback {display: none;}</style><div id=\"sk-container-id-1\" class=\"sk-top-container\"><div class=\"sk-text-repr-fallback\"><pre>GaussianNB()</pre><b>In a Jupyter environment, please rerun this cell to show the HTML representation or trust the notebook. <br />On GitHub, the HTML representation is unable to render, please try loading this page with nbviewer.org.</b></div><div class=\"sk-container\" hidden><div class=\"sk-item\"><div class=\"sk-estimator sk-toggleable\"><input class=\"sk-toggleable__control sk-hidden--visually\" id=\"sk-estimator-id-1\" type=\"checkbox\" checked><label for=\"sk-estimator-id-1\" class=\"sk-toggleable__label sk-toggleable__label-arrow\">GaussianNB</label><div class=\"sk-toggleable__content\"><pre>GaussianNB()</pre></div></div></div></div></div>"
      ],
      "text/plain": [
       "GaussianNB()"
      ]
     },
     "execution_count": 15,
     "metadata": {},
     "output_type": "execute_result"
    }
   ],
   "source": [
    "gnb = GaussianNB()\n",
    "gnb.fit(train_X.toarray(), train_y)"
   ]
  },
  {
   "cell_type": "markdown",
   "id": "b251649a",
   "metadata": {},
   "source": [
    "<h2>6. Scoring accurraccies</h2>"
   ]
  },
  {
   "cell_type": "markdown",
   "id": "0365e4da",
   "metadata": {},
   "source": [
    "<h3>a. Training accurracy score </h3>"
   ]
  },
  {
   "cell_type": "code",
   "execution_count": 16,
   "id": "1867febd",
   "metadata": {},
   "outputs": [
    {
     "name": "stdout",
     "output_type": "stream",
     "text": [
      "Accurracy train data points: 0.8723051993800197\n"
     ]
    }
   ],
   "source": [
    "training_accurracy = gnb.score(train_X.toarray(), train_y)\n",
    "print(f\"Accurracy train data points: {training_accurracy}\")"
   ]
  },
  {
   "cell_type": "markdown",
   "id": "b56ef50d",
   "metadata": {},
   "source": [
    "<h3>b. Validation accurracy score </h3>"
   ]
  },
  {
   "cell_type": "code",
   "execution_count": 17,
   "id": "32b0c3e9",
   "metadata": {},
   "outputs": [
    {
     "name": "stdout",
     "output_type": "stream",
     "text": [
      "Accurracy on validation: 0.8764\n"
     ]
    }
   ],
   "source": [
    "validation_accurracy_score = gnb.score(validation_X.toarray(), validation_y)\n",
    "print(f\"Accurracy on validation: {validation_accurracy_score}\")"
   ]
  },
  {
   "cell_type": "markdown",
   "id": "7fe8f911",
   "metadata": {},
   "source": [
    "<h2>7. Varying feature numbers for hashing vectorizer </h2>"
   ]
  },
  {
   "cell_type": "markdown",
   "id": "3acc25be",
   "metadata": {},
   "source": [
    "<h3>a. Number of features and accurraccy results</h3>"
   ]
  },
  {
   "cell_type": "code",
   "execution_count": 18,
   "id": "85f85c23",
   "metadata": {},
   "outputs": [],
   "source": [
    "features = [10, 50, 100, 200, 500, 1000, 2000]\n",
    "training_accurracy = []\n",
    "validation_accurracy = []"
   ]
  },
  {
   "cell_type": "markdown",
   "id": "307153f4",
   "metadata": {},
   "source": [
    "<h3>b. Cycling through features to score accurracies of different hashingvecotr feature sizes\n",
    "</h3>\n",
    "Note: Takes about 20 minutes to run and drains a lot of battery"
   ]
  },
  {
   "cell_type": "code",
   "execution_count": 19,
   "id": "d51fbdd4",
   "metadata": {},
   "outputs": [
    {
     "name": "stdout",
     "output_type": "stream",
     "text": [
      "Finished feature size: 10\n",
      "Finished feature size: 50\n",
      "Finished feature size: 100\n",
      "Finished feature size: 200\n",
      "Finished feature size: 500\n",
      "Finished feature size: 1000\n",
      "Finished feature size: 2000\n"
     ]
    }
   ],
   "source": [
    "\n",
    "for vectorSize in features:\n",
    "    \n",
    "    vectorizer = HashingVectorizer(n_features=vectorSize)\n",
    "    \n",
    "    # Fit to vectorizer\n",
    "    train_X = vectorizer.fit_transform(train_data['text'])\n",
    "    validation_X = vectorizer.transform(validation_data['text'])\n",
    "    \n",
    "    # Train Model\n",
    "    gnb = GaussianNB()\n",
    "    gnb.fit(train_X.toarray(), train_y)\n",
    "    \n",
    "    # Append accurracies\n",
    "    training_accurracy.append(gnb.score(train_X.toarray(), train_y))\n",
    "    validation_accurracy.append(gnb.score(validation_X.toarray(), validation_y))\n",
    "    \n",
    "    print(f\"Finished feature size: {vectorSize}\")\n",
    "    "
   ]
  },
  {
   "cell_type": "markdown",
   "id": "5df6c5e2",
   "metadata": {},
   "source": [
    "<h3>c. generate graphs with matplotlib </h3>\n"
   ]
  },
  {
   "cell_type": "code",
   "execution_count": 20,
   "id": "06338833",
   "metadata": {
    "scrolled": false
   },
   "outputs": [
    {
     "data": {
      "image/png": "[encoded data removed]",
      "text/plain": [
       "<Figure size 640x480 with 1 Axes>"
      ]
     },
     "metadata": {},
     "output_type": "display_data"
    }
   ],
   "source": [
    "import matplotlib.pyplot as plt\n",
    "\n",
    "plt.plot(features, validation_accurracy)\n",
    "plt.plot(features, training_accurracy)\n",
    "plt.ylabel(\"Accurracy Score\")\n",
    "plt.xlabel(\"Feature Vector Size\")\n",
    "\n",
    "plt.show()\n",
    "\n",
    "# Best results when the vectorizer only has 10 features * I THINK * for some reason\n"
   ]
  },
  {
   "cell_type": "markdown",
   "id": "8ad9603d",
   "metadata": {},
   "source": [
    "<h3>d. Testing using feature size of 10</h3>"
   ]
  },
  {
   "cell_type": "code",
   "execution_count": 21,
   "id": "8a424e5e",
   "metadata": {},
   "outputs": [
    {
     "name": "stdout",
     "output_type": "stream",
     "text": [
      "Final test accurracy: 0.8628\n"
     ]
    }
   ],
   "source": [
    "vectorizer = HashingVectorizer(n_features=100)\n",
    "    \n",
    "# Fit to vectorizer\n",
    "train_X = vectorizer.fit_transform(train_data['text'])\n",
    "test_X = vectorizer.transform(test_data['text'])\n",
    "\n",
    "# Train Model\n",
    "gnb = GaussianNB()\n",
    "gnb.fit(train_X.toarray(), train_y)\n",
    "\n",
    "# Testing accurracies\n",
    "test_accurracy = gnb.score(test_X.toarray(), test_y)\n",
    "\n",
    "print(f\"Final test accurracy: {test_accurracy}\")"
   ]
  },
  {
   "cell_type": "code",
   "execution_count": null,
   "id": "e92d9c8e",
   "metadata": {},
   "outputs": [],
   "source": []
  }
 ],
 "metadata": {
  "kernelspec": {
   "display_name": "Python 3 (ipykernel)",
   "language": "python",
   "name": "python3"
  },
  "language_info": {
   "codemirror_mode": {
    "name": "ipython",
    "version": 3
   },
   "file_extension": ".py",
   "mimetype": "text/x-python",
   "name": "python",
   "nbconvert_exporter": "python",
   "pygments_lexer": "ipython3",
   "version": "3.11.4"
  }
 },
 "nbformat": 4,
 "nbformat_minor": 5
}
