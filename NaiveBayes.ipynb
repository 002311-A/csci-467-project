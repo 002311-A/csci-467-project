{
 "cells": [
  {
   "cell_type": "markdown",
   "id": "074dbc28",
   "metadata": {},
   "source": [
    "<h1> Naive Bayes on Arxiv Classification </h1>\n"
   ]
  },
  {
   "cell_type": "markdown",
   "id": "013ea206",
   "metadata": {},
   "source": [
    "<h2>1. Imports </h2>"
   ]
  },
  {
   "cell_type": "code",
   "execution_count": 51,
   "id": "bc8fe5aa",
   "metadata": {},
   "outputs": [],
   "source": [
    "# from arxivClassification import ArxivClassificationDataset as AC\n",
    "import json\n",
    "import numpy as np\n",
    "import pandas as pd\n",
    "from collections import Counter, defaultdict\n",
    "from datasets import load_dataset\n",
    "import random\n",
    "random.seed(42)\n",
    "\n",
    "from sklearn.naive_bayes import GaussianNB\n",
    "from sklearn.feature_extraction.text import HashingVectorizer\n",
    "from sklearn.metrics import classification_report"
   ]
  },
  {
   "cell_type": "markdown",
   "id": "86715501",
   "metadata": {},
   "source": [
    "<h2>2. Constants/FilePaths</h2>"
   ]
  },
  {
   "cell_type": "code",
   "execution_count": 2,
   "id": "fc9e9013",
   "metadata": {},
   "outputs": [],
   "source": [
    "NAME_DATASET = \"ccdv/arxiv-classification\"\n",
    "\n",
    "# 0 is for original Math classes, 1 is for original CS classes\n",
    "classConversion = [0, 1, 1, 1, 0, 1, 1, 1, 1, 1, 0]"
   ]
  },
  {
   "cell_type": "markdown",
   "id": "8133826a",
   "metadata": {},
   "source": [
    "<h2>3. Loading Data</h2>\n",
    "<p>Hugging set dataloader and initializing HashingVectorizer</p>"
   ]
  },
  {
   "cell_type": "code",
   "execution_count": 67,
   "id": "773bda71",
   "metadata": {},
   "outputs": [
    {
     "name": "stdout",
     "output_type": "stream",
     "text": [
      "Downloading and preparing dataset arxiv-classification/no_ref to /Users/adityak2003/.cache/huggingface/datasets/ccdv___arxiv-classification/no_ref/1.0.0/5ba6a83b0eb91c2ea1de914fabd462fbd17722f1a3f1a2bba29e7942a207c789...\n"
     ]
    },
    {
     "data": {
      "application/vnd.jupyter.widget-view+json": {
       "model_id": "63f3e254861c4b2799edbe0810199721",
       "version_major": 2,
       "version_minor": 0
      },
      "text/plain": [
       "Generating train split: 0 examples [00:00, ? examples/s]"
      ]
     },
     "metadata": {},
     "output_type": "display_data"
    },
    {
     "data": {
      "application/vnd.jupyter.widget-view+json": {
       "model_id": "3ffa7964952742408c9924770ea1350d",
       "version_major": 2,
       "version_minor": 0
      },
      "text/plain": [
       "Generating validation split: 0 examples [00:00, ? examples/s]"
      ]
     },
     "metadata": {},
     "output_type": "display_data"
    },
    {
     "data": {
      "application/vnd.jupyter.widget-view+json": {
       "model_id": "0206de8897cb4ad9a5932a64e6352c31",
       "version_major": 2,
       "version_minor": 0
      },
      "text/plain": [
       "Generating test split: 0 examples [00:00, ? examples/s]"
      ]
     },
     "metadata": {},
     "output_type": "display_data"
    },
    {
     "name": "stdout",
     "output_type": "stream",
     "text": [
      "Dataset arxiv-classification downloaded and prepared to /Users/adityak2003/.cache/huggingface/datasets/ccdv___arxiv-classification/no_ref/1.0.0/5ba6a83b0eb91c2ea1de914fabd462fbd17722f1a3f1a2bba29e7942a207c789. Subsequent calls will reuse this data.\n"
     ]
    },
    {
     "name": "stderr",
     "output_type": "stream",
     "text": [
      "Found cached dataset arxiv-classification (/Users/adityak2003/.cache/huggingface/datasets/ccdv___arxiv-classification/no_ref/1.0.0/5ba6a83b0eb91c2ea1de914fabd462fbd17722f1a3f1a2bba29e7942a207c789)\n",
      "Found cached dataset arxiv-classification (/Users/adityak2003/.cache/huggingface/datasets/ccdv___arxiv-classification/no_ref/1.0.0/5ba6a83b0eb91c2ea1de914fabd462fbd17722f1a3f1a2bba29e7942a207c789)\n"
     ]
    }
   ],
   "source": [
    "subset = 'no_ref' # so that the label is not leaked into input data\n",
    "\n",
    "# dataset = load_dataset(NAME_DATASET)\n",
    "# print(dataset.keys())\n",
    "\n",
    "train_data = load_dataset(NAME_DATASET, subset, split = \"train\")\n",
    "validation_data = load_dataset(NAME_DATASET, subset, split = \"validation\")\n",
    "test_data = load_dataset(NAME_DATASET, subset, split = \"test\")"
   ]
  },
  {
   "cell_type": "markdown",
   "id": "79959efc",
   "metadata": {},
   "source": [
    "<h2>4. Data Processing </h2>"
   ]
  },
  {
   "cell_type": "markdown",
   "id": "dac3b7ab",
   "metadata": {},
   "source": [
    "<h3>a. Converting 11 original classes to 2 classes, CS (1) or Math (0) </h3>"
   ]
  },
  {
   "cell_type": "code",
   "execution_count": 69,
   "id": "7ac4ea76",
   "metadata": {},
   "outputs": [],
   "source": [
    "train_y = [classConversion[x] for x in train_data['label']]\n",
    "test_y = [classConversion[x] for x in test_data['label']]\n",
    "validation_y = [classConversion[x] for x in validation_data['label']]"
   ]
  },
  {
   "cell_type": "markdown",
   "id": "d59697f4",
   "metadata": {},
   "source": [
    "<h3>b. Fit and transform vectorizer to train_data </h3>"
   ]
  },
  {
   "cell_type": "code",
   "execution_count": 70,
   "id": "977eb8ae",
   "metadata": {},
   "outputs": [],
   "source": [
    "vectorizer = HashingVectorizer(n_features=500)\n",
    "\n",
    "train_X = vectorizer.fit_transform(train_data['text'])\n",
    "test_X = vectorizer.transform(test_data['text'])\n",
    "validation_X = vectorizer.transform(validation_data['text'])"
   ]
  },
  {
   "cell_type": "markdown",
   "id": "d871fa3c",
   "metadata": {},
   "source": [
    "<h2>5. Training Gaussian Naive Bayes model </h2"
   ]
  },
  {
   "cell_type": "code",
   "execution_count": 71,
   "id": "fb7c9d79",
   "metadata": {},
   "outputs": [
    {
     "data": {
      "text/html": [
       "<style>#sk-container-id-2 {color: black;}#sk-container-id-2 pre{padding: 0;}#sk-container-id-2 div.sk-toggleable {background-color: white;}#sk-container-id-2 label.sk-toggleable__label {cursor: pointer;display: block;width: 100%;margin-bottom: 0;padding: 0.3em;box-sizing: border-box;text-align: center;}#sk-container-id-2 label.sk-toggleable__label-arrow:before {content: \"▸\";float: left;margin-right: 0.25em;color: #696969;}#sk-container-id-2 label.sk-toggleable__label-arrow:hover:before {color: black;}#sk-container-id-2 div.sk-estimator:hover label.sk-toggleable__label-arrow:before {color: black;}#sk-container-id-2 div.sk-toggleable__content {max-height: 0;max-width: 0;overflow: hidden;text-align: left;background-color: #f0f8ff;}#sk-container-id-2 div.sk-toggleable__content pre {margin: 0.2em;color: black;border-radius: 0.25em;background-color: #f0f8ff;}#sk-container-id-2 input.sk-toggleable__control:checked~div.sk-toggleable__content {max-height: 200px;max-width: 100%;overflow: auto;}#sk-container-id-2 input.sk-toggleable__control:checked~label.sk-toggleable__label-arrow:before {content: \"▾\";}#sk-container-id-2 div.sk-estimator input.sk-toggleable__control:checked~label.sk-toggleable__label {background-color: #d4ebff;}#sk-container-id-2 div.sk-label input.sk-toggleable__control:checked~label.sk-toggleable__label {background-color: #d4ebff;}#sk-container-id-2 input.sk-hidden--visually {border: 0;clip: rect(1px 1px 1px 1px);clip: rect(1px, 1px, 1px, 1px);height: 1px;margin: -1px;overflow: hidden;padding: 0;position: absolute;width: 1px;}#sk-container-id-2 div.sk-estimator {font-family: monospace;background-color: #f0f8ff;border: 1px dotted black;border-radius: 0.25em;box-sizing: border-box;margin-bottom: 0.5em;}#sk-container-id-2 div.sk-estimator:hover {background-color: #d4ebff;}#sk-container-id-2 div.sk-parallel-item::after {content: \"\";width: 100%;border-bottom: 1px solid gray;flex-grow: 1;}#sk-container-id-2 div.sk-label:hover label.sk-toggleable__label {background-color: #d4ebff;}#sk-container-id-2 div.sk-serial::before {content: \"\";position: absolute;border-left: 1px solid gray;box-sizing: border-box;top: 0;bottom: 0;left: 50%;z-index: 0;}#sk-container-id-2 div.sk-serial {display: flex;flex-direction: column;align-items: center;background-color: white;padding-right: 0.2em;padding-left: 0.2em;position: relative;}#sk-container-id-2 div.sk-item {position: relative;z-index: 1;}#sk-container-id-2 div.sk-parallel {display: flex;align-items: stretch;justify-content: center;background-color: white;position: relative;}#sk-container-id-2 div.sk-item::before, #sk-container-id-2 div.sk-parallel-item::before {content: \"\";position: absolute;border-left: 1px solid gray;box-sizing: border-box;top: 0;bottom: 0;left: 50%;z-index: -1;}#sk-container-id-2 div.sk-parallel-item {display: flex;flex-direction: column;z-index: 1;position: relative;background-color: white;}#sk-container-id-2 div.sk-parallel-item:first-child::after {align-self: flex-end;width: 50%;}#sk-container-id-2 div.sk-parallel-item:last-child::after {align-self: flex-start;width: 50%;}#sk-container-id-2 div.sk-parallel-item:only-child::after {width: 0;}#sk-container-id-2 div.sk-dashed-wrapped {border: 1px dashed gray;margin: 0 0.4em 0.5em 0.4em;box-sizing: border-box;padding-bottom: 0.4em;background-color: white;}#sk-container-id-2 div.sk-label label {font-family: monospace;font-weight: bold;display: inline-block;line-height: 1.2em;}#sk-container-id-2 div.sk-label-container {text-align: center;}#sk-container-id-2 div.sk-container {/* jupyter's `normalize.less` sets `[hidden] { display: none; }` but bootstrap.min.css set `[hidden] { display: none !important; }` so we also need the `!important` here to be able to override the default hidden behavior on the sphinx rendered scikit-learn.org. See: https://github.com/scikit-learn/scikit-learn/issues/21755 */display: inline-block !important;position: relative;}#sk-container-id-2 div.sk-text-repr-fallback {display: none;}</style><div id=\"sk-container-id-2\" class=\"sk-top-container\"><div class=\"sk-text-repr-fallback\"><pre>GaussianNB()</pre><b>In a Jupyter environment, please rerun this cell to show the HTML representation or trust the notebook. <br />On GitHub, the HTML representation is unable to render, please try loading this page with nbviewer.org.</b></div><div class=\"sk-container\" hidden><div class=\"sk-item\"><div class=\"sk-estimator sk-toggleable\"><input class=\"sk-toggleable__control sk-hidden--visually\" id=\"sk-estimator-id-2\" type=\"checkbox\" checked><label for=\"sk-estimator-id-2\" class=\"sk-toggleable__label sk-toggleable__label-arrow\">GaussianNB</label><div class=\"sk-toggleable__content\"><pre>GaussianNB()</pre></div></div></div></div></div>"
      ],
      "text/plain": [
       "GaussianNB()"
      ]
     },
     "execution_count": 71,
     "metadata": {},
     "output_type": "execute_result"
    }
   ],
   "source": [
    "gnb = GaussianNB()\n",
    "gnb.fit(train_X.toarray(), train_y)"
   ]
  },
  {
   "cell_type": "markdown",
   "id": "b251649a",
   "metadata": {},
   "source": [
    "<h2>6. Scoring accuraccies</h2>"
   ]
  },
  {
   "cell_type": "markdown",
   "id": "0365e4da",
   "metadata": {},
   "source": [
    "<h3>a. Training accuracy score </h3>"
   ]
  },
  {
   "cell_type": "code",
   "execution_count": 72,
   "id": "1867febd",
   "metadata": {},
   "outputs": [
    {
     "name": "stdout",
     "output_type": "stream",
     "text": [
      "Accuracy train data points: 0.8720586163167535\n"
     ]
    }
   ],
   "source": [
    "training_accuracy = gnb.score(train_X.toarray(), train_y)\n",
    "print(f\"Accuracy train data points: {training_accuracy}\")"
   ]
  },
  {
   "cell_type": "markdown",
   "id": "b56ef50d",
   "metadata": {},
   "source": [
    "<h3>b. Validation accuracy score </h3>"
   ]
  },
  {
   "cell_type": "code",
   "execution_count": 73,
   "id": "32b0c3e9",
   "metadata": {},
   "outputs": [
    {
     "name": "stdout",
     "output_type": "stream",
     "text": [
      "Accuracy on validation: 0.8768\n"
     ]
    }
   ],
   "source": [
    "validation_accuracy_score = gnb.score(validation_X.toarray(), validation_y)\n",
    "print(f\"Accuracy on validation: {validation_accuracy_score}\")"
   ]
  },
  {
   "cell_type": "markdown",
   "id": "7fe8f911",
   "metadata": {},
   "source": [
    "<h2>7. Varying feature numbers for hashing vectorizer </h2>"
   ]
  },
  {
   "cell_type": "markdown",
   "id": "307153f4",
   "metadata": {},
   "source": [
    "<h3>a. Cycling through features to score accuracies of different hashingvecotr feature sizes\n",
    "</h3>\n",
    "Note: Takes about 20 minutes to run and drains a lot of battery"
   ]
  },
  {
   "cell_type": "code",
   "execution_count": 74,
   "id": "d51fbdd4",
   "metadata": {},
   "outputs": [
    {
     "name": "stdout",
     "output_type": "stream",
     "text": [
      "Finished feature size: 10\n",
      "Validation Classification Report:\n",
      "              precision    recall  f1-score   support\n",
      "\n",
      "           0       0.66      0.47      0.55       681\n",
      "           1       0.82      0.91      0.86      1819\n",
      "\n",
      "    accuracy                           0.79      2500\n",
      "   macro avg       0.74      0.69      0.71      2500\n",
      "weighted avg       0.78      0.79      0.78      2500\n",
      "\n",
      "\n",
      "Finished feature size: 50\n",
      "Validation Classification Report:\n",
      "              precision    recall  f1-score   support\n",
      "\n",
      "           0       0.72      0.72      0.72       681\n",
      "           1       0.89      0.90      0.90      1819\n",
      "\n",
      "    accuracy                           0.85      2500\n",
      "   macro avg       0.81      0.81      0.81      2500\n",
      "weighted avg       0.85      0.85      0.85      2500\n",
      "\n",
      "\n",
      "Finished feature size: 100\n",
      "Validation Classification Report:\n",
      "              precision    recall  f1-score   support\n",
      "\n",
      "           0       0.74      0.78      0.76       681\n",
      "           1       0.91      0.90      0.91      1819\n",
      "\n",
      "    accuracy                           0.86      2500\n",
      "   macro avg       0.83      0.84      0.83      2500\n",
      "weighted avg       0.87      0.86      0.87      2500\n",
      "\n",
      "\n",
      "Finished feature size: 200\n",
      "Validation Classification Report:\n",
      "              precision    recall  f1-score   support\n",
      "\n",
      "           0       0.72      0.83      0.77       681\n",
      "           1       0.93      0.88      0.90      1819\n",
      "\n",
      "    accuracy                           0.87      2500\n",
      "   macro avg       0.83      0.85      0.84      2500\n",
      "weighted avg       0.87      0.87      0.87      2500\n",
      "\n",
      "\n",
      "Finished feature size: 500\n",
      "Validation Classification Report:\n",
      "              precision    recall  f1-score   support\n",
      "\n",
      "           0       0.74      0.85      0.79       681\n",
      "           1       0.94      0.89      0.91      1819\n",
      "\n",
      "    accuracy                           0.88      2500\n",
      "   macro avg       0.84      0.87      0.85      2500\n",
      "weighted avg       0.88      0.88      0.88      2500\n",
      "\n",
      "\n",
      "Finished feature size: 1000\n",
      "Validation Classification Report:\n",
      "              precision    recall  f1-score   support\n",
      "\n",
      "           0       0.74      0.88      0.80       681\n",
      "           1       0.95      0.88      0.92      1819\n",
      "\n",
      "    accuracy                           0.88      2500\n",
      "   macro avg       0.84      0.88      0.86      2500\n",
      "weighted avg       0.89      0.88      0.88      2500\n",
      "\n",
      "\n",
      "Finished feature size: 2000\n",
      "Validation Classification Report:\n",
      "              precision    recall  f1-score   support\n",
      "\n",
      "           0       0.75      0.87      0.81       681\n",
      "           1       0.95      0.89      0.92      1819\n",
      "\n",
      "    accuracy                           0.89      2500\n",
      "   macro avg       0.85      0.88      0.86      2500\n",
      "weighted avg       0.89      0.89      0.89      2500\n",
      "\n",
      "\n"
     ]
    }
   ],
   "source": [
    "# Number of features and accuracy result\n",
    "features = [10, 50, 100, 200, 500, 1000, 2000]\n",
    "training_accuracy = []\n",
    "validation_accuracy = []\n",
    "\n",
    "training_classification_reports = []\n",
    "validation_classification_reports = []\n",
    "\n",
    "for vectorSize in features:\n",
    "    \n",
    "    vectorizer = HashingVectorizer(n_features=vectorSize)\n",
    "    \n",
    "    # Fit to vectorizer\n",
    "    train_X = vectorizer.fit_transform(train_data['text'])\n",
    "    validation_X = vectorizer.transform(validation_data['text'])\n",
    "    \n",
    "    # Train Model\n",
    "    gnb = GaussianNB()\n",
    "    gnb.fit(train_X.toarray(), train_y)\n",
    "    \n",
    "    # Append accuracies\n",
    "    training_accuracy.append(gnb.score(train_X.toarray(), train_y))\n",
    "    validation_accuracy.append(gnb.score(validation_X.toarray(), validation_y))\n",
    "\n",
    "    # Predict\n",
    "    train_predictions = gnb.predict(train_X.toarray())\n",
    "    validation_predictions = gnb.predict(validation_X.toarray())\n",
    "\n",
    "    # Classification reports\n",
    "    training_report = classification_report(train_y, train_predictions, output_dict=True)\n",
    "    validation_report = classification_report(validation_y, validation_predictions, output_dict=True)\n",
    "\n",
    "    # Store results\n",
    "    training_classification_reports.append(training_report)\n",
    "    validation_classification_reports.append(validation_report)\n",
    "    \n",
    "    print(f\"Finished feature size: {vectorSize}\")\n",
    "    print(f\"Validation Classification Report:\")\n",
    "    print(classification_report(validation_y, validation_predictions, output_dict=False))\n",
    "    print()\n",
    "    "
   ]
  },
  {
   "cell_type": "markdown",
   "id": "5df6c5e2",
   "metadata": {},
   "source": [
    "<h3>c. generate graphs with matplotlib </h3>\n"
   ]
  },
  {
   "cell_type": "code",
   "execution_count": 75,
   "id": "06338833",
   "metadata": {
    "scrolled": false
   },
   "outputs": [
    {
     "data": {
      "image/png": "[encoded data removed]",
      "text/plain": [
       "<Figure size 640x480 with 1 Axes>"
      ]
     },
     "metadata": {},
     "output_type": "display_data"
    },
    {
     "name": "stdout",
     "output_type": "stream",
     "text": [
      "Features: [10, 50, 100, 200, 500, 1000, 2000]\n",
      "Training Accuracies: [0.785437508806538, 0.8456390023953784, 0.8538466957869523, 0.8593067493307032, 0.8720586163167535, 0.887980836973369, 0.8961533042130477]\n",
      "Validation Accuracies: [0.7892, 0.848, 0.8644, 0.8652, 0.8768, 0.8812, 0.8856]\n"
     ]
    }
   ],
   "source": [
    "import matplotlib.pyplot as plt\n",
    "\n",
    "\n",
    "plt.plot(features, validation_accuracy, marker='o', label='Validation Accuracy')\n",
    "plt.plot(features, training_accuracy, marker='o', label='Training Accuracy')\n",
    "plt.ylabel(\"Accuracy Score\")\n",
    "plt.xlabel(\"Feature Vector Size\")\n",
    "plt.legend()\n",
    "plt.title('Accuracy vs. Feature Vector Size')\n",
    "\n",
    "plt.show()\n",
    "\n",
    "print(f'Features: {features}')\n",
    "print(f'Training Accuracies: {training_accuracy}')\n",
    "print(f'Validation Accuracies: {validation_accuracy}')\n",
    "\n",
    "# Best results are for highest validation accuracy: 2000\n"
   ]
  },
  {
   "cell_type": "code",
   "execution_count": 76,
   "id": "3da571cf",
   "metadata": {},
   "outputs": [
    {
     "data": {
      "image/png": "[encoded data removed]",
      "text/plain": [
       "<Figure size 640x480 with 1 Axes>"
      ]
     },
     "metadata": {},
     "output_type": "display_data"
    },
    {
     "name": "stdout",
     "output_type": "stream",
     "text": [
      "Features: [10, 50, 100, 200, 500, 1000, 2000]\n",
      "Training F1-Scores: [0.7028338558649925, 0.8051860206857897, 0.8182377534257871, 0.8296423545280303, 0.8451820074976768, 0.8652849301749875, 0.875260475985251]\n",
      "Validation F1-Scores: [0.7061617272471603, 0.8077415009600784, 0.8314765931427379, 0.8375759272293886, 0.8510177230864484, 0.8579729944017449, 0.8621015796408702]\n"
     ]
    }
   ],
   "source": [
    "# F1-Score vs. Feature vector size\n",
    "train_f1_scores = []\n",
    "val_f1_scores = []\n",
    "\n",
    "for training_report in training_classification_reports:\n",
    "    train_f1_scores.append(training_report['macro avg']['f1-score'])\n",
    "\n",
    "for val_report in validation_classification_reports:\n",
    "    val_f1_scores.append(val_report['macro avg']['f1-score'])\n",
    "\n",
    "plt.plot(features, val_f1_scores, marker='o', label='Validation F1-Score')\n",
    "plt.plot(features, train_f1_scores, marker='o', label='Training F1-Score')\n",
    "plt.ylabel(\"F1-Score\")\n",
    "plt.xlabel(\"Feature Vector Size\")\n",
    "plt.legend()\n",
    "plt.title('F1-Score vs. Feature Vector Size')\n",
    "\n",
    "plt.show()\n",
    "\n",
    "print(f'Features: {features}')\n",
    "print(f'Training F1-Scores: {train_f1_scores}')\n",
    "print(f'Validation F1-Scores: {val_f1_scores}')\n",
    "\n",
    "# Best is still 2000 features, no signs of overfitting"
   ]
  },
  {
   "cell_type": "markdown",
   "id": "8ad9603d",
   "metadata": {},
   "source": [
    "<h3>d. Testing using feature size of 2000</h3>"
   ]
  },
  {
   "cell_type": "code",
   "execution_count": 77,
   "id": "8a424e5e",
   "metadata": {},
   "outputs": [
    {
     "name": "stdout",
     "output_type": "stream",
     "text": [
      "Final test accuracy: 0.8904\n",
      "Classification Report: \n",
      "              precision    recall  f1-score   support\n",
      "\n",
      "           0       0.75      0.89      0.81       658\n",
      "           1       0.96      0.89      0.92      1842\n",
      "\n",
      "    accuracy                           0.89      2500\n",
      "   macro avg       0.85      0.89      0.87      2500\n",
      "weighted avg       0.90      0.89      0.89      2500\n",
      "\n"
     ]
    }
   ],
   "source": [
    "best_feature_size = 2000\n",
    "\n",
    "vectorizer = HashingVectorizer(n_features=best_feature_size)\n",
    "    \n",
    "# Fit to vectorizer\n",
    "train_X = vectorizer.fit_transform(train_data['text'])\n",
    "test_X = vectorizer.transform(test_data['text'])\n",
    "\n",
    "# Train Model\n",
    "gnb = GaussianNB()\n",
    "gnb.fit(train_X.toarray(), train_y)\n",
    "\n",
    "# Testing accuracies\n",
    "test_accuracy = gnb.score(test_X.toarray(), test_y)\n",
    "\n",
    "# Classification report\n",
    "test_predictions = gnb.predict(test_X.toarray())\n",
    "\n",
    "print(f\"Final test accuracy: {test_accuracy}\")\n",
    "\n",
    "# Classification report\n",
    "print('Classification Report: ')\n",
    "print(classification_report(test_y, test_predictions, output_dict=False))"
   ]
  },
  {
   "cell_type": "markdown",
   "id": "5ef88bb5",
   "metadata": {},
   "source": [
    "## Error Analysis"
   ]
  },
  {
   "cell_type": "code",
   "execution_count": 78,
   "id": "1e4a40c0",
   "metadata": {},
   "outputs": [],
   "source": [
    "# Code to shorten a document so we just see the title, classification, authors, and a few lines\n",
    "def shorten_document(text):\n",
    "    # Find the index of the line containing \"arXiv\"\n",
    "    arxiv_index = text.find(\"arXiv\")\n",
    "    if arxiv_index == -1:\n",
    "        return text  # Return original text if \"arXiv\" is not found\n",
    "    \n",
    "    num_newlines = 0\n",
    "    index = arxiv_index\n",
    "    while num_newlines < 5:\n",
    "        index = text.find(\"\\n\", index + 1)\n",
    "        num_newlines += 1\n",
    "        if index == -1:\n",
    "            return text\n",
    "    \n",
    "    # Return the shortened text\n",
    "    return text[:index] + \"...\""
   ]
  },
  {
   "cell_type": "code",
   "execution_count": 83,
   "id": "e92d9c8e",
   "metadata": {},
   "outputs": [],
   "source": [
    "# Get the indices of misclassified examples\n",
    "misclassified_indices = (test_predictions != test_y).nonzero()[0]\n",
    "\n",
    "# Map from original true label number (0, 1, ... 11) to the actual label (cs.DS, ...)\n",
    "ORIGINAL_LABELS = ['math.AC', 'cs.CV', 'cs.AI', 'cs.SY', 'math.GR', 'cs.DS', 'cs.CE', 'cs.PL', 'cs.IT', 'cs.NE', 'math.ST']\n",
    "\n",
    "# Print the misclassified examples\n",
    "misclassified_examples = []\n",
    "# print(\"Misclassified Examples:\")\n",
    "for idx in misclassified_indices:\n",
    "    # print(f\"True label: {test_y[idx]}, Predicted label: {test_predictions[idx]}\")\n",
    "    # print(f\"Text: {shorten_document(test_data['text'][idx])}\")\n",
    "    # print()\n",
    "\n",
    "    # Construct dict to save\n",
    "    info = {}\n",
    "    info['true label'] = test_y[idx]\n",
    "    info['predicted label'] = test_predictions[idx]\n",
    "    info['full text'] = test_data['text'][idx]\n",
    "    info['shortened text'] = shorten_document(info['full text'])\n",
    "    info['original true label index'] = test_data['label'][idx]\n",
    "    info['original true label'] = ORIGINAL_LABELS[test_data['label'][idx]]\n",
    "\n",
    "    misclassified_examples.append(info)\n"
   ]
  },
  {
   "cell_type": "markdown",
   "id": "c39d97d5",
   "metadata": {},
   "source": [
    "Code to randomly sample misclassified documents to analyze"
   ]
  },
  {
   "cell_type": "code",
   "execution_count": 84,
   "id": "58a61020",
   "metadata": {},
   "outputs": [
    {
     "name": "stdout",
     "output_type": "stream",
     "text": [
      "cs.SY\n",
      "arXiv:1801.08409v1 [math.NA] 14 Jan 2018\n",
      "\n",
      "Computation of the State Bias and Initial States\n",
      "for Stochastic State Space Systems in the General 2-D\n",
      "Roesser Model Form...\n"
     ]
    }
   ],
   "source": [
    "# Pick k random samples to analyze\n",
    "k = 1\n",
    "\n",
    "random_misclassifications = random.sample(misclassified_examples, k)\n",
    "\n",
    "for sample in random_misclassifications:\n",
    "    print(sample['original true label'])\n",
    "    print(sample['shortened text'])"
   ]
  },
  {
   "cell_type": "markdown",
   "id": "a5260cb3",
   "metadata": {},
   "source": [
    "### Plot misclassification errors vs original labels"
   ]
  },
  {
   "cell_type": "code",
   "execution_count": 89,
   "id": "3233f1ac",
   "metadata": {},
   "outputs": [
    {
     "data": {
      "image/png": "[encoded data removed]",
      "text/plain": [
       "<Figure size 1000x600 with 1 Axes>"
      ]
     },
     "metadata": {},
     "output_type": "display_data"
    }
   ],
   "source": [
    "errors_by_label = [0, 0, 0, 0, 0, 0, 0, 0, 0, 0, 0]\n",
    "\n",
    "for example in misclassified_examples:\n",
    "    error_label_idx = example['original true label index']\n",
    "    errors_by_label[error_label_idx] += 1\n",
    "\n",
    "# Graph histogram \n",
    "plt.figure(figsize=(10, 6))\n",
    "plt.bar(ORIGINAL_LABELS, errors_by_label)\n",
    "plt.xlabel('Sub-Labels')\n",
    "plt.ylabel('Classification Errors')\n",
    "plt.title('Errors by Sub-Label')\n",
    "plt.show()"
   ]
  }
 ],
 "metadata": {
  "kernelspec": {
   "display_name": "Python 3 (ipykernel)",
   "language": "python",
   "name": "python3"
  },
  "language_info": {
   "codemirror_mode": {
    "name": "ipython",
    "version": 3
   },
   "file_extension": ".py",
   "mimetype": "text/x-python",
   "name": "python",
   "nbconvert_exporter": "python",
   "pygments_lexer": "ipython3",
   "version": "3.11.4"
  }
 },
 "nbformat": 4,
 "nbformat_minor": 5
}
